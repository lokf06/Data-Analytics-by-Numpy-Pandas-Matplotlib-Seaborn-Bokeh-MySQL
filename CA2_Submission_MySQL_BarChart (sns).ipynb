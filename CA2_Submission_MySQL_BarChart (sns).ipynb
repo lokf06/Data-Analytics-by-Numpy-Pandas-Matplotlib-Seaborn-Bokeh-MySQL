{
 "cells": [
  {
   "cell_type": "markdown",
   "id": "9a25ffa8",
   "metadata": {},
   "source": [
    "# CA2_Submission_MySQL_BarChart (sns) using CEA dataset"
   ]
  },
  {
   "cell_type": "markdown",
   "id": "14461dd9",
   "metadata": {},
   "source": [
    "# Task1 - Loading and storing data to external RDBMS via Docker (MySQL)"
   ]
  },
  {
   "cell_type": "code",
   "execution_count": 1,
   "id": "588eee12",
   "metadata": {},
   "outputs": [
    {
     "name": "stdout",
     "output_type": "stream",
     "text": [
      "Requirement already satisfied: mysql-connector-python in c:\\users\\lokf2\\anaconda3\\lib\\site-packages (9.0.0)\n"
     ]
    }
   ],
   "source": [
    "#Install mysql connector\n",
    "!pip3 install mysql-connector-python"
   ]
  },
  {
   "cell_type": "code",
   "execution_count": 2,
   "id": "6aa4fcda",
   "metadata": {},
   "outputs": [],
   "source": [
    "import mysql.connector\n",
    "from mysql.connector import errorcode\n",
    "from datetime import date, datetime, timedelta\n",
    "from dateutil.parser import parse\n",
    "import pandas as pd\n",
    "import seaborn as sns\n",
    "import matplotlib.pyplot as plt\n",
    "import sys"
   ]
  },
  {
   "cell_type": "code",
   "execution_count": 59,
   "id": "f2dbe38b",
   "metadata": {},
   "outputs": [],
   "source": [
    "#define mysql connection parameters\n",
    "user,pw, host,db = 'root', 'my-secret-pwd','127.0.0.1','sys'\n",
    "#establish connection\n",
    "cnx = mysql.connector.connect(user=user, password=pw, host=host, database=db)\n",
    "#create interface to execute SQL queries\n",
    "cursor = cnx.cursor()"
   ]
  },
  {
   "cell_type": "code",
   "execution_count": 3,
   "id": "06619b8a",
   "metadata": {},
   "outputs": [
    {
     "name": "stdout",
     "output_type": "stream",
     "text": [
      "Database created!\n"
     ]
    }
   ],
   "source": [
    "#create MySQL database\n",
    "\n",
    "#Define SQL query to create database\n",
    "query_for_creating_database = 'CREATE DATABASE myCA2DB1'\n",
    "\n",
    "#execute SQL query\n",
    "try:\n",
    "   cursor.execute(query_for_creating_database)\n",
    "   cnx.commit()\n",
    "   print(\"Database created!\")\n",
    "\n",
    "except:\n",
    "   print(\"Unexpected error:\", sys.exc_info()[0])\n",
    "   #exit()\n",
    "\n",
    "finally:\n",
    "   cursor.close()\n",
    "   cnx.close()"
   ]
  },
  {
   "cell_type": "code",
   "execution_count": 2,
   "id": "42a9894a",
   "metadata": {},
   "outputs": [],
   "source": [
    "user,pw, host,db = 'root', 'my-secret-pwd','127.0.0.1','myCA2DB1'\n",
    "\n",
    "cnx = mysql.connector.connect(user=user, password=pw, host=host, database=db)\n",
    "cursor = cnx.cursor()"
   ]
  },
  {
   "cell_type": "code",
   "execution_count": 3,
   "id": "1d801e4a",
   "metadata": {},
   "outputs": [
    {
     "name": "stdout",
     "output_type": "stream",
     "text": [
      "Table created!\n"
     ]
    }
   ],
   "source": [
    "# Create the Table \n",
    "\n",
    "query_for_creating_table = (\n",
    "    \"CREATE TABLE `cea_salespersons` (\"\n",
    "    \"`cea_salesperson_id` int(11) NOT NULL AUTO_INCREMENT,\"\n",
    "    \"`salesperson_name` varchar(100) NOT NULL,\"\n",
    "    \"`transaction_date` date NOT NULL,\"\n",
    "    \"`salesperson_reg_num` varchar(50) NOT NULL,\"\n",
    "    \"`property_type` varchar(50) NOT NULL,\"\n",
    "    \"`transaction_type` varchar(50) NOT NULL,\"\n",
    "    \"`represented` varchar(50) NOT NULL,\"                        \n",
    "    \"PRIMARY KEY (`cea_salesperson_id`)\"\n",
    "    \") ENGINE=InnoDB\"\n",
    ")\n",
    "\n",
    "\n",
    "try:\n",
    "    cursor.execute(query_for_creating_table)\n",
    "    cnx.commit()\n",
    "    print(\"Table created!\")\n",
    "\n",
    "except:\n",
    "    print(\"Unexpected error:\", sys.exc_info()[0])\n",
    "    #exit()\n",
    "\n",
    "finally:\n",
    "    cursor.close()\n",
    "    cnx.close()"
   ]
  },
  {
   "cell_type": "code",
   "execution_count": 4,
   "id": "d07cbea9",
   "metadata": {},
   "outputs": [],
   "source": [
    "# Load the dataset\n",
    "df = pd.read_csv(\"ceasalespersons.csv\")"
   ]
  },
  {
   "cell_type": "code",
   "execution_count": 5,
   "id": "b14750ab",
   "metadata": {},
   "outputs": [
    {
     "data": {
      "text/html": [
       "<div>\n",
       "<style scoped>\n",
       "    .dataframe tbody tr th:only-of-type {\n",
       "        vertical-align: middle;\n",
       "    }\n",
       "\n",
       "    .dataframe tbody tr th {\n",
       "        vertical-align: top;\n",
       "    }\n",
       "\n",
       "    .dataframe thead th {\n",
       "        text-align: right;\n",
       "    }\n",
       "</style>\n",
       "<table border=\"1\" class=\"dataframe\">\n",
       "  <thead>\n",
       "    <tr style=\"text-align: right;\">\n",
       "      <th></th>\n",
       "      <th>salesperson_name</th>\n",
       "      <th>transaction_date</th>\n",
       "      <th>salesperson_reg_num</th>\n",
       "      <th>property_type</th>\n",
       "      <th>transaction_type</th>\n",
       "      <th>represented</th>\n",
       "    </tr>\n",
       "  </thead>\n",
       "  <tbody>\n",
       "    <tr>\n",
       "      <th>0</th>\n",
       "      <td>SOH HUI HUA</td>\n",
       "      <td>10-2017</td>\n",
       "      <td>P000003I</td>\n",
       "      <td>HDB</td>\n",
       "      <td>RESALE</td>\n",
       "      <td>SELLER</td>\n",
       "    </tr>\n",
       "    <tr>\n",
       "      <th>1</th>\n",
       "      <td>SOH HUI HUA</td>\n",
       "      <td>03-2018</td>\n",
       "      <td>P000003I</td>\n",
       "      <td>HDB</td>\n",
       "      <td>RESALE</td>\n",
       "      <td>BUYER</td>\n",
       "    </tr>\n",
       "    <tr>\n",
       "      <th>2</th>\n",
       "      <td>SOH HUI HUA</td>\n",
       "      <td>01-2017</td>\n",
       "      <td>P000003I</td>\n",
       "      <td>HDB</td>\n",
       "      <td>RESALE</td>\n",
       "      <td>BUYER</td>\n",
       "    </tr>\n",
       "    <tr>\n",
       "      <th>3</th>\n",
       "      <td>SOH HUI HUA</td>\n",
       "      <td>05-2018</td>\n",
       "      <td>P000003I</td>\n",
       "      <td>HDB</td>\n",
       "      <td>RESALE</td>\n",
       "      <td>SELLER</td>\n",
       "    </tr>\n",
       "    <tr>\n",
       "      <th>4</th>\n",
       "      <td>SOH HUI HUA</td>\n",
       "      <td>11-2017</td>\n",
       "      <td>P000003I</td>\n",
       "      <td>HDB</td>\n",
       "      <td>RESALE</td>\n",
       "      <td>SELLER</td>\n",
       "    </tr>\n",
       "  </tbody>\n",
       "</table>\n",
       "</div>"
      ],
      "text/plain": [
       "  salesperson_name transaction_date salesperson_reg_num property_type  \\\n",
       "0      SOH HUI HUA          10-2017            P000003I           HDB   \n",
       "1      SOH HUI HUA          03-2018            P000003I           HDB   \n",
       "2      SOH HUI HUA          01-2017            P000003I           HDB   \n",
       "3      SOH HUI HUA          05-2018            P000003I           HDB   \n",
       "4      SOH HUI HUA          11-2017            P000003I           HDB   \n",
       "\n",
       "  transaction_type represented  \n",
       "0           RESALE      SELLER  \n",
       "1           RESALE       BUYER  \n",
       "2           RESALE       BUYER  \n",
       "3           RESALE      SELLER  \n",
       "4           RESALE      SELLER  "
      ]
     },
     "execution_count": 5,
     "metadata": {},
     "output_type": "execute_result"
    }
   ],
   "source": [
    "df.head()"
   ]
  },
  {
   "cell_type": "code",
   "execution_count": 5,
   "id": "d2d156c9",
   "metadata": {},
   "outputs": [
    {
     "name": "stdout",
     "output_type": "stream",
     "text": [
      "<< This is the shape of the dataset >>\n",
      "(1000, 6)\n",
      "\n",
      "<< This is the index of the dataset >>\n",
      "RangeIndex(start=0, stop=1000, step=1)\n",
      "\n",
      "<< These are the columns in the dataset >>\n",
      "Index(['salesperson_name', 'transaction_date', 'salesperson_reg_num',\n",
      "       'property_type', 'transaction_type', 'represented'],\n",
      "      dtype='object')\n",
      "\n",
      "<< A summary of this dataset is shown below >>\n",
      "<class 'pandas.core.frame.DataFrame'>\n",
      "RangeIndex: 1000 entries, 0 to 999\n",
      "Data columns (total 6 columns):\n",
      " #   Column               Non-Null Count  Dtype \n",
      "---  ------               --------------  ----- \n",
      " 0   salesperson_name     1000 non-null   object\n",
      " 1   transaction_date     1000 non-null   object\n",
      " 2   salesperson_reg_num  1000 non-null   object\n",
      " 3   property_type        1000 non-null   object\n",
      " 4   transaction_type     1000 non-null   object\n",
      " 5   represented          1000 non-null   object\n",
      "dtypes: object(6)\n",
      "memory usage: 47.0+ KB\n",
      "None\n",
      "\n",
      "<< The total number of non-NA values in this dataset >>\n",
      "salesperson_name       1000\n",
      "transaction_date       1000\n",
      "salesperson_reg_num    1000\n",
      "property_type          1000\n",
      "transaction_type       1000\n",
      "represented            1000\n",
      "dtype: int64\n",
      "\n"
     ]
    }
   ],
   "source": [
    "### Text-based Analysis Summary using Pandas ###\n",
    "\n",
    "# Display shape of the dataset\n",
    "print(\"<< This is the shape of the dataset >>\")\n",
    "print(df.shape)\n",
    "print()\n",
    "\n",
    "# Display index range\n",
    "print(\"<< This is the index of the dataset >>\")\n",
    "print(df.index)\n",
    "print()\n",
    "\n",
    "# Display all columns in the dataset\n",
    "print(\"<< These are the columns in the dataset >>\")\n",
    "print(df.columns)\n",
    "print()\n",
    "\n",
    "# Display summary of the dataset\n",
    "print(\"<< A summary of this dataset is shown below >>\")\n",
    "print(df.info())\n",
    "print()\n",
    "\n",
    "# Count total number of non-NA (non-null) values in the dataset\n",
    "print(\"<< The total number of non-NA values in this dataset >>\")\n",
    "print(df.count())\n",
    "print()\n",
    "\n",
    "# Display statistical summary of the quantitative variables columns (**not required for this task**)\n",
    "#print(\"<< A descriptive statistical summary of the quantitative data in this dataset >>\")\n",
    "#df[['price']].describe()\n"
   ]
  },
  {
   "cell_type": "code",
   "execution_count": 6,
   "id": "a659631f",
   "metadata": {},
   "outputs": [],
   "source": [
    "user,pw, host,db = 'root', 'my-secret-pwd','127.0.0.1','myCA2DB1'\n",
    "\n",
    "cnx = mysql.connector.connect(user=user, password=pw, host=host, database=db)\n",
    "cursor = cnx.cursor()"
   ]
  },
  {
   "cell_type": "code",
   "execution_count": 7,
   "id": "bd0cee65",
   "metadata": {},
   "outputs": [
    {
     "name": "stdout",
     "output_type": "stream",
     "text": [
      "All data inserted!\n"
     ]
    }
   ],
   "source": [
    "# Insert data into Table in MYSQL DB\n",
    "\n",
    "try:\n",
    "    for index, col in df.iterrows():\n",
    "        transaction_date = datetime.strptime(col[1], \"%m-%Y\").date()\n",
    "        \n",
    "        data = {\n",
    "            'salesperson_name': col[0],\n",
    "            'transaction_date': transaction_date,\n",
    "            'salesperson_reg_num' : col[2],\n",
    "            'property_type': col[3],\n",
    "            'transaction_type' : col[4],\n",
    "            'represented': col[5]\n",
    "        }\n",
    "        \n",
    "        query = insert_stmt = (\"INSERT INTO cea_salespersons (salesperson_name, transaction_date, salesperson_reg_num, property_type, transaction_type, represented)\" \n",
    "               \"VALUES (%(salesperson_name)s, %(transaction_date)s, %(salesperson_reg_num)s, %(property_type)s, %(transaction_type)s, %(represented)s)\")\n",
    "    \n",
    "    \n",
    "        cursor.execute(query, data) # Insert new cea_salesperson\n",
    "        #print(\"Adding row \" + str(index))\n",
    "        cnx.commit() # Make sure data is committed to the database\n",
    "        \n",
    "    print(\"All data inserted!\")\n",
    "\n",
    "except:\n",
    "    print(\"Unexpected error:\", sys.exc_info()[0])\n",
    "    #exit()\n",
    "    \n",
    "finally:\n",
    "    cursor.close()\n",
    "    cnx.close()\n"
   ]
  },
  {
   "cell_type": "code",
   "execution_count": 81,
   "id": "dabe3d19",
   "metadata": {},
   "outputs": [
    {
     "data": {
      "text/html": [
       "<div>\n",
       "<style scoped>\n",
       "    .dataframe tbody tr th:only-of-type {\n",
       "        vertical-align: middle;\n",
       "    }\n",
       "\n",
       "    .dataframe tbody tr th {\n",
       "        vertical-align: top;\n",
       "    }\n",
       "\n",
       "    .dataframe thead th {\n",
       "        text-align: right;\n",
       "    }\n",
       "</style>\n",
       "<table border=\"1\" class=\"dataframe\">\n",
       "  <thead>\n",
       "    <tr style=\"text-align: right;\">\n",
       "      <th></th>\n",
       "      <th>salesperson_name</th>\n",
       "      <th>occurrences</th>\n",
       "      <th>rank</th>\n",
       "    </tr>\n",
       "  </thead>\n",
       "  <tbody>\n",
       "    <tr>\n",
       "      <th>0</th>\n",
       "      <td>HO CHAI KHOR</td>\n",
       "      <td>59</td>\n",
       "      <td>1.0</td>\n",
       "    </tr>\n",
       "    <tr>\n",
       "      <th>1</th>\n",
       "      <td>TEO BOON KWEE</td>\n",
       "      <td>54</td>\n",
       "      <td>2.0</td>\n",
       "    </tr>\n",
       "    <tr>\n",
       "      <th>2</th>\n",
       "      <td>CHEW KENG TUAN BENEDICT</td>\n",
       "      <td>51</td>\n",
       "      <td>3.0</td>\n",
       "    </tr>\n",
       "    <tr>\n",
       "      <th>3</th>\n",
       "      <td>HO CHAI HWA</td>\n",
       "      <td>43</td>\n",
       "      <td>4.0</td>\n",
       "    </tr>\n",
       "    <tr>\n",
       "      <th>4</th>\n",
       "      <td>HAYATI BINTE JANTAN</td>\n",
       "      <td>25</td>\n",
       "      <td>5.0</td>\n",
       "    </tr>\n",
       "    <tr>\n",
       "      <th>5</th>\n",
       "      <td>SETO SIU MANG</td>\n",
       "      <td>24</td>\n",
       "      <td>6.0</td>\n",
       "    </tr>\n",
       "    <tr>\n",
       "      <th>6</th>\n",
       "      <td>HUANG HUANBIN</td>\n",
       "      <td>22</td>\n",
       "      <td>7.0</td>\n",
       "    </tr>\n",
       "    <tr>\n",
       "      <th>7</th>\n",
       "      <td>SILVA CHOO LI QUN</td>\n",
       "      <td>22</td>\n",
       "      <td>7.0</td>\n",
       "    </tr>\n",
       "    <tr>\n",
       "      <th>8</th>\n",
       "      <td>ONG LI FONG</td>\n",
       "      <td>20</td>\n",
       "      <td>9.0</td>\n",
       "    </tr>\n",
       "    <tr>\n",
       "      <th>9</th>\n",
       "      <td>LEONG KOK YING</td>\n",
       "      <td>18</td>\n",
       "      <td>10.0</td>\n",
       "    </tr>\n",
       "  </tbody>\n",
       "</table>\n",
       "</div>"
      ],
      "text/plain": [
       "          salesperson_name  occurrences  rank\n",
       "0             HO CHAI KHOR           59   1.0\n",
       "1            TEO BOON KWEE           54   2.0\n",
       "2  CHEW KENG TUAN BENEDICT           51   3.0\n",
       "3              HO CHAI HWA           43   4.0\n",
       "4      HAYATI BINTE JANTAN           25   5.0\n",
       "5            SETO SIU MANG           24   6.0\n",
       "6            HUANG HUANBIN           22   7.0\n",
       "7        SILVA CHOO LI QUN           22   7.0\n",
       "8              ONG LI FONG           20   9.0\n",
       "9           LEONG KOK YING           18  10.0"
      ]
     },
     "execution_count": 81,
     "metadata": {},
     "output_type": "execute_result"
    }
   ],
   "source": [
    "# Top 10 salesperson obtained from CSV dataset on jupyter notebook \n",
    "\n",
    "# Count the occurrences of each salesperson name\n",
    "name_counts = df['salesperson_name'].value_counts()\n",
    "\n",
    "# Convert the counts to a DataFrame\n",
    "name_counts_df = name_counts.reset_index()\n",
    "name_counts_df.columns = ['salesperson_name', 'occurrences']\n",
    "\n",
    "# Display the ranking\n",
    "name_counts_df['rank'] = name_counts_df['occurrences'].rank(method='min', ascending=False)\n",
    "\n",
    "name_counts_df.head(10)"
   ]
  },
  {
   "cell_type": "code",
   "execution_count": null,
   "id": "dbbb1a71",
   "metadata": {},
   "outputs": [],
   "source": []
  },
  {
   "cell_type": "markdown",
   "id": "854bb4d5",
   "metadata": {},
   "source": [
    "# Task2 - User queries MySQL database (To query top 10 salespersons) "
   ]
  },
  {
   "cell_type": "code",
   "execution_count": 11,
   "id": "7849a6ed",
   "metadata": {},
   "outputs": [
    {
     "name": "stdout",
     "output_type": "stream",
     "text": [
      "How many top sales personnel do you wish to view? Please key in a number between 1 and 10: 5\n",
      "Here are the top 5 sales personnel:\n",
      "          salesperson_name  Sales_Transactions\n",
      "0             HO CHAI KHOR                  59\n",
      "1            TEO BOON KWEE                  54\n",
      "2  CHEW KENG TUAN BENEDICT                  51\n",
      "3              HO CHAI HWA                  43\n",
      "4      HAYATI BINTE JANTAN                  25\n"
     ]
    },
    {
     "name": "stderr",
     "output_type": "stream",
     "text": [
      "C:\\Users\\lokf2\\AppData\\Local\\Temp\\ipykernel_29968\\1021645055.py:25: UserWarning: pandas only supports SQLAlchemy connectable (engine/connection) or database string URI or sqlite3 DBAPI2 connection. Other DBAPI2 objects are not tested. Please consider using SQLAlchemy.\n",
      "  df = pd.read_sql(sql, con=cnx)\n"
     ]
    }
   ],
   "source": [
    "user,pw, host,db = 'root', 'my-secret-pwd','127.0.0.1','myCA2DB1'\n",
    "cnx = mysql.connector.connect(user=user, password=pw, host=host, database=db)\n",
    "cursor = cnx.cursor()\n",
    "\n",
    "# Get the input from the user\n",
    "top_salesperson = input(\"How many top sales personnel do you wish to view? Please key in a number between 1 and 10: \")\n",
    "\n",
    "# Validate the input\n",
    "if not top_salesperson.isdigit():\n",
    "    print(\"Invalid input. Please enter a number between 1 and 10.\")\n",
    "elif int(top_salesperson) < 1 or int(top_salesperson) > 10:\n",
    "    print(\"Please enter a valid number between 1 and 10.\")\n",
    "else:\n",
    "    top_salesperson = int(top_salesperson)\n",
    "    # SQL query to get the top sales personne using f-string\n",
    "    sql = f\"\"\"\n",
    "        SELECT salesperson_name, COUNT(*) AS Sales_Transactions \n",
    "        FROM myCA2DB1.cea_salespersons \n",
    "        GROUP BY salesperson_name\n",
    "        ORDER BY Sales_Transactions DESC\n",
    "        LIMIT {top_salesperson};\n",
    "        \"\"\"\n",
    "    \n",
    "    # Execute the query and fetch the data into a DataFrame\n",
    "    df = pd.read_sql(sql, con=cnx)\n",
    "\n",
    "    # Close cursor and connection\n",
    "    cursor.close()\n",
    "    cnx.close()\n",
    "\n",
    "    # Print the results\n",
    "    print(f\"Here are the top {top_salesperson} sales personnel:\")\n",
    "    print(df)"
   ]
  },
  {
   "cell_type": "code",
   "execution_count": null,
   "id": "60d7cfda",
   "metadata": {},
   "outputs": [],
   "source": []
  },
  {
   "cell_type": "markdown",
   "id": "b9594d18",
   "metadata": {},
   "source": [
    "# Task3 - Query & Retrieve data from MySQL DB and plot Barchart using Seaborn, Matplotlib"
   ]
  },
  {
   "cell_type": "code",
   "execution_count": 12,
   "id": "3b85431d",
   "metadata": {},
   "outputs": [
    {
     "name": "stdout",
     "output_type": "stream",
     "text": [
      "<class 'pandas.core.frame.DataFrame'>\n",
      "RangeIndex: 1000 entries, 0 to 999\n",
      "Data columns (total 2 columns):\n",
      " #   Column            Non-Null Count  Dtype         \n",
      "---  ------            --------------  -----         \n",
      " 0   salesperson_name  1000 non-null   object        \n",
      " 1   transaction_date  1000 non-null   datetime64[ns]\n",
      "dtypes: datetime64[ns](1), object(1)\n",
      "memory usage: 15.8+ KB\n",
      "None\n"
     ]
    }
   ],
   "source": [
    "user, pw, host, db = 'root', 'my-secret-pwd', '127.0.0.1', 'myCA2DB1'\n",
    "cnx = mysql.connector.connect(user=user, password=pw, host=host, database=db)\n",
    "cursor = cnx.cursor()\n",
    "\n",
    "# Query MySQL DB and fetch the necessary data\n",
    "query = \"\"\"\n",
    "SELECT salesperson_name, transaction_date\n",
    "FROM cea_salespersons\n",
    "\"\"\"\n",
    "\n",
    "# Execute the query\n",
    "cursor.execute(query)\n",
    "# Fetch the data\n",
    "rows = cursor.fetchall()\n",
    "\n",
    "# Convert to DataFrame\n",
    "df1 = pd.DataFrame(rows, columns=['salesperson_name', 'transaction_date'])\n",
    "\n",
    "# Close the cursor and connection\n",
    "cursor.close()\n",
    "cnx.close()\n",
    "\n",
    "# Convert transaction_date to datetime\n",
    "df1['transaction_date'] = pd.to_datetime(df1['transaction_date'])\n",
    "\n",
    "# Print data info to confirm no missing data, it shall have 1000 rows\n",
    "print(df1.info())\n"
   ]
  },
  {
   "cell_type": "code",
   "execution_count": 3,
   "id": "e45eac64",
   "metadata": {},
   "outputs": [
    {
     "data": {
      "text/html": [
       "<div>\n",
       "<style scoped>\n",
       "    .dataframe tbody tr th:only-of-type {\n",
       "        vertical-align: middle;\n",
       "    }\n",
       "\n",
       "    .dataframe tbody tr th {\n",
       "        vertical-align: top;\n",
       "    }\n",
       "\n",
       "    .dataframe thead th {\n",
       "        text-align: right;\n",
       "    }\n",
       "</style>\n",
       "<table border=\"1\" class=\"dataframe\">\n",
       "  <thead>\n",
       "    <tr style=\"text-align: right;\">\n",
       "      <th></th>\n",
       "      <th>salesperson_name</th>\n",
       "      <th>transaction_date</th>\n",
       "    </tr>\n",
       "  </thead>\n",
       "  <tbody>\n",
       "    <tr>\n",
       "      <th>0</th>\n",
       "      <td>SOH HUI HUA</td>\n",
       "      <td>2017-10-01</td>\n",
       "    </tr>\n",
       "    <tr>\n",
       "      <th>1</th>\n",
       "      <td>SOH HUI HUA</td>\n",
       "      <td>2018-03-01</td>\n",
       "    </tr>\n",
       "    <tr>\n",
       "      <th>2</th>\n",
       "      <td>SOH HUI HUA</td>\n",
       "      <td>2017-01-01</td>\n",
       "    </tr>\n",
       "    <tr>\n",
       "      <th>3</th>\n",
       "      <td>SOH HUI HUA</td>\n",
       "      <td>2018-05-01</td>\n",
       "    </tr>\n",
       "    <tr>\n",
       "      <th>4</th>\n",
       "      <td>SOH HUI HUA</td>\n",
       "      <td>2017-11-01</td>\n",
       "    </tr>\n",
       "  </tbody>\n",
       "</table>\n",
       "</div>"
      ],
      "text/plain": [
       "  salesperson_name transaction_date\n",
       "0      SOH HUI HUA       2017-10-01\n",
       "1      SOH HUI HUA       2018-03-01\n",
       "2      SOH HUI HUA       2017-01-01\n",
       "3      SOH HUI HUA       2018-05-01\n",
       "4      SOH HUI HUA       2017-11-01"
      ]
     },
     "execution_count": 3,
     "metadata": {},
     "output_type": "execute_result"
    }
   ],
   "source": [
    "df1.head()"
   ]
  },
  {
   "cell_type": "code",
   "execution_count": null,
   "id": "5a00d53c",
   "metadata": {},
   "outputs": [],
   "source": []
  },
  {
   "cell_type": "code",
   "execution_count": 14,
   "id": "763ff1a7",
   "metadata": {},
   "outputs": [
    {
     "name": "stdout",
     "output_type": "stream",
     "text": [
      "            salesperson_name  sales_count\n",
      "39              HO CHAI KHOR           59\n",
      "183            TEO BOON KWEE           54\n",
      "11   CHEW KENG TUAN BENEDICT           51\n",
      "38               HO CHAI HWA           43\n",
      "36       HAYATI BINTE JANTAN           25\n",
      "..                       ...          ...\n",
      "156           TAN CHOR KHENG            1\n",
      "155           TAN CHIEW KWAK            1\n",
      "154             TAN CHEW MEI            1\n",
      "153      STEVEN TAN SEOW JIN            1\n",
      "207            YONG SIOW LAN            1\n",
      "\n",
      "[208 rows x 2 columns]\n"
     ]
    }
   ],
   "source": [
    "### top 5 salespersons (*** verify results on mySQL ***) ###\n",
    "\n",
    "sales_counts = df1.groupby('salesperson_name')['transaction_date'].count().reset_index()\n",
    "sales_counts.rename(columns={'transaction_date': 'sales_count'}, inplace=True)\n",
    "\n",
    "# Sort the sales_counts DataFrame in descending order\n",
    "sales_counts.sort_values(by='sales_count', ascending=False, inplace=True)\n",
    "\n",
    "# top salespersons in descending order\n",
    "print(sales_counts)\n",
    "\n"
   ]
  },
  {
   "cell_type": "code",
   "execution_count": 15,
   "id": "252a7d18",
   "metadata": {},
   "outputs": [
    {
     "data": {
      "image/png": "[encoded data removed]",
      "text/plain": [
       "<Figure size 1100x800 with 1 Axes>"
      ]
     },
     "metadata": {},
     "output_type": "display_data"
    }
   ],
   "source": [
    "# Query data from mySQL DB and create Barchart using Seaborn library\n",
    "\n",
    "user, pw, host, db = 'root', 'my-secret-pwd', '127.0.0.1', 'myCA2DB1'\n",
    "cnx = mysql.connector.connect(user=user, password=pw, host=host, database=db)\n",
    "cursor = cnx.cursor()\n",
    "\n",
    "# Query MySQL DB to get the data\n",
    "query = \"\"\"\n",
    "SELECT salesperson_name, transaction_date\n",
    "FROM cea_salespersons\n",
    "\"\"\"\n",
    "\n",
    "# Execute the query\n",
    "cursor.execute(query)\n",
    "# Fetch the data\n",
    "rows = cursor.fetchall()\n",
    "\n",
    "# Convert to DataFrame\n",
    "df1 = pd.DataFrame(rows, columns=['salesperson_name', 'transaction_date'])\n",
    "\n",
    "# Close the cursor and connection\n",
    "cursor.close()\n",
    "cnx.close()\n",
    "\n",
    "# Convert transaction_date to datetime\n",
    "df1['transaction_date'] = pd.to_datetime(df1['transaction_date'])\n",
    "\n",
    "# Group data by salesperson and calculate total sales count\n",
    "sales_counts = df1.groupby('salesperson_name')['transaction_date'].count().reset_index()\n",
    "sales_counts.rename(columns={'transaction_date': 'sales_count'}, inplace=True)\n",
    "\n",
    "# Sort the sales_counts DataFrame in descending order\n",
    "sales_counts.sort_values(by='sales_count', ascending=False, inplace=True)\n",
    "\n",
    "# Get top 5 salespersons\n",
    "top_salespersons = sales_counts.nlargest(5, 'sales_count')\n",
    "\n",
    "# Create the bar chart\n",
    "plt.figure(figsize=(11, 8))\n",
    "ax = sns.barplot(data=top_salespersons, x='salesperson_name', y='sales_count', palette=\"viridis\", width=0.8)\n",
    "\n",
    "# Add labels on each bar\n",
    "for p in ax.patches:\n",
    "    ax.annotate(format(p.get_height(), '.0f'), \n",
    "                (p.get_x() + p.get_width() / 2., p.get_height()), \n",
    "                ha = 'center', va = 'center', \n",
    "                xytext = (0, 9), \n",
    "                textcoords = 'offset points')\n",
    "\n",
    "plt.title(\"Top 5 CEA Salespersons (2017-2018)\")\n",
    "plt.xlabel(\"Salesperson\")\n",
    "plt.ylabel(\"Total Sales Transactions\")\n",
    "plt.xticks(rotation=45)\n",
    "plt.tight_layout()\n",
    "plt.show()\n"
   ]
  },
  {
   "cell_type": "code",
   "execution_count": 16,
   "id": "63a97042",
   "metadata": {},
   "outputs": [
    {
     "data": {
      "text/html": [
       "<div>\n",
       "<style scoped>\n",
       "    .dataframe tbody tr th:only-of-type {\n",
       "        vertical-align: middle;\n",
       "    }\n",
       "\n",
       "    .dataframe tbody tr th {\n",
       "        vertical-align: top;\n",
       "    }\n",
       "\n",
       "    .dataframe thead th {\n",
       "        text-align: right;\n",
       "    }\n",
       "</style>\n",
       "<table border=\"1\" class=\"dataframe\">\n",
       "  <thead>\n",
       "    <tr style=\"text-align: right;\">\n",
       "      <th></th>\n",
       "      <th>salesperson_name</th>\n",
       "      <th>sales_count</th>\n",
       "    </tr>\n",
       "  </thead>\n",
       "  <tbody>\n",
       "    <tr>\n",
       "      <th>39</th>\n",
       "      <td>HO CHAI KHOR</td>\n",
       "      <td>59</td>\n",
       "    </tr>\n",
       "    <tr>\n",
       "      <th>183</th>\n",
       "      <td>TEO BOON KWEE</td>\n",
       "      <td>54</td>\n",
       "    </tr>\n",
       "    <tr>\n",
       "      <th>11</th>\n",
       "      <td>CHEW KENG TUAN BENEDICT</td>\n",
       "      <td>51</td>\n",
       "    </tr>\n",
       "    <tr>\n",
       "      <th>38</th>\n",
       "      <td>HO CHAI HWA</td>\n",
       "      <td>43</td>\n",
       "    </tr>\n",
       "    <tr>\n",
       "      <th>36</th>\n",
       "      <td>HAYATI BINTE JANTAN</td>\n",
       "      <td>25</td>\n",
       "    </tr>\n",
       "  </tbody>\n",
       "</table>\n",
       "</div>"
      ],
      "text/plain": [
       "            salesperson_name  sales_count\n",
       "39              HO CHAI KHOR           59\n",
       "183            TEO BOON KWEE           54\n",
       "11   CHEW KENG TUAN BENEDICT           51\n",
       "38               HO CHAI HWA           43\n",
       "36       HAYATI BINTE JANTAN           25"
      ]
     },
     "execution_count": 16,
     "metadata": {},
     "output_type": "execute_result"
    }
   ],
   "source": [
    "top_salespersons"
   ]
  },
  {
   "cell_type": "code",
   "execution_count": null,
   "id": "6cc1fab2",
   "metadata": {},
   "outputs": [],
   "source": []
  }
 ],
 "metadata": {
  "kernelspec": {
   "display_name": "Python 3 (ipykernel)",
   "language": "python",
   "name": "python3"
  },
  "language_info": {
   "codemirror_mode": {
    "name": "ipython",
    "version": 3
   },
   "file_extension": ".py",
   "mimetype": "text/x-python",
   "name": "python",
   "nbconvert_exporter": "python",
   "pygments_lexer": "ipython3",
   "version": "3.11.5"
  }
 },
 "nbformat": 4,
 "nbformat_minor": 5
}
